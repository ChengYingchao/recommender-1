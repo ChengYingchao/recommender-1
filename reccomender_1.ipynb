{
 "cells": [
  {
   "cell_type": "code",
   "execution_count": null,
   "metadata": {},
   "outputs": [],
   "source": [
    "import pandas as pd\n",
    "\n",
    "df1 = pd.read_csv('u.data',sep='\\t')\n",
    "df1.columns = ['user_id','item_id','rating','timestamp']\n",
    "df1.head()\n",
    "\n",
    "df2 = pd.read_csv('Movie_Id_Titles')\n",
    "df2.head()\n",
    "\n",
    "df = pd.merge(df1,df2,on='item_id')\n",
    "df.head()\n",
    "\n",
    "rating_and_no_of_rating = pd.DataFrame(df.groupby('title')['rating'].mean().sort_values(ascending=False))\n",
    "rating_and_no_of_rating\n",
    "\n",
    "rating_and_no_of_rating['no_of_ratings'] = df.groupby('title')['rating'].count()\n",
    "rating_and_no_of_rating\n",
    "\n",
    "rating_and_no_of_rating = rating_and_no_of_rating.sort_values('no_of_ratings',ascending=False)\n",
    "rating_and_no_of_rating.head()\n",
    "\n",
    "pt = df.pivot_table(index='user_id',columns='title',values='rating')\n",
    "pt.head()\n",
    "\n",
    "rating_and_no_of_rating.index\n",
    "\n",
    "test_movie = input('Enter movie name --> ')\n",
    "movie_vector = pt[test_movie].dropna()\n",
    "similar_movies = pt.corrwith(movie_vector)\n",
    "\n",
    "corr_df = pd.DataFrame(similar_movies,columns=['Correlation'])\n",
    "corr_df = corr_df.join(rating_and_no_of_rating['no_of_ratings'])\n",
    "\n",
    "corr_df = corr_df[corr_df['no_of_ratings']>100].sort_values('Correlation',ascending=False).dropna()\n",
    "corr_df.head(10)"
   ]
  }
 ],
 "metadata": {
  "kernelspec": {
   "display_name": "Python 3.8.9 64-bit",
   "language": "python",
   "name": "python3"
  },
  "language_info": {
   "name": "python",
   "version": "3.8.9"
  },
  "orig_nbformat": 4,
  "vscode": {
   "interpreter": {
    "hash": "31f2aee4e71d21fbe5cf8b01ff0e069b9275f58929596ceb00d14d90e3e16cd6"
   }
  }
 },
 "nbformat": 4,
 "nbformat_minor": 2
}
